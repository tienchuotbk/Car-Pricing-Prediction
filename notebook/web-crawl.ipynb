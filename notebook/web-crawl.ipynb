{
  "cells": [
    {
      "cell_type": "code",
      "source": [
        "from google.colab import drive\n",
        "drive.mount('/content/drive')"
      ],
      "metadata": {
        "colab": {
          "base_uri": "https://localhost:8080/"
        },
        "id": "rPhhoHJ1FDAf",
        "outputId": "4a6e873f-f74a-4ece-f2a1-226a1d25f939"
      },
      "execution_count": null,
      "outputs": [
        {
          "output_type": "stream",
          "name": "stdout",
          "text": [
            "Mounted at /content/drive\n"
          ]
        }
      ]
    },
    {
      "cell_type": "code",
      "source": [
        "!pip install selenium\n",
        "!apt update\n",
        "!apt install chromium-chromedriver"
      ],
      "metadata": {
        "colab": {
          "base_uri": "https://localhost:8080/"
        },
        "id": "1m-N4q-84YkG",
        "outputId": "77870141-b677-465d-8895-16474da7a966"
      },
      "execution_count": null,
      "outputs": [
        {
          "output_type": "stream",
          "name": "stdout",
          "text": [
            "Requirement already satisfied: selenium in /usr/local/lib/python3.10/dist-packages (4.15.2)\n",
            "Requirement already satisfied: urllib3[socks]<3,>=1.26 in /usr/local/lib/python3.10/dist-packages (from selenium) (2.0.7)\n",
            "Requirement already satisfied: trio~=0.17 in /usr/local/lib/python3.10/dist-packages (from selenium) (0.23.1)\n",
            "Requirement already satisfied: trio-websocket~=0.9 in /usr/local/lib/python3.10/dist-packages (from selenium) (0.11.1)\n",
            "Requirement already satisfied: certifi>=2021.10.8 in /usr/local/lib/python3.10/dist-packages (from selenium) (2023.7.22)\n",
            "Requirement already satisfied: attrs>=20.1.0 in /usr/local/lib/python3.10/dist-packages (from trio~=0.17->selenium) (23.1.0)\n",
            "Requirement already satisfied: sortedcontainers in /usr/local/lib/python3.10/dist-packages (from trio~=0.17->selenium) (2.4.0)\n",
            "Requirement already satisfied: idna in /usr/local/lib/python3.10/dist-packages (from trio~=0.17->selenium) (3.4)\n",
            "Requirement already satisfied: outcome in /usr/local/lib/python3.10/dist-packages (from trio~=0.17->selenium) (1.3.0.post0)\n",
            "Requirement already satisfied: sniffio>=1.3.0 in /usr/local/lib/python3.10/dist-packages (from trio~=0.17->selenium) (1.3.0)\n",
            "Requirement already satisfied: exceptiongroup>=1.0.0rc9 in /usr/local/lib/python3.10/dist-packages (from trio~=0.17->selenium) (1.1.3)\n",
            "Requirement already satisfied: wsproto>=0.14 in /usr/local/lib/python3.10/dist-packages (from trio-websocket~=0.9->selenium) (1.2.0)\n",
            "Requirement already satisfied: pysocks!=1.5.7,<2.0,>=1.5.6 in /usr/local/lib/python3.10/dist-packages (from urllib3[socks]<3,>=1.26->selenium) (1.7.1)\n",
            "Requirement already satisfied: h11<1,>=0.9.0 in /usr/local/lib/python3.10/dist-packages (from wsproto>=0.14->trio-websocket~=0.9->selenium) (0.14.0)\n",
            "Hit:1 https://cloud.r-project.org/bin/linux/ubuntu jammy-cran40/ InRelease\n",
            "Hit:2 https://developer.download.nvidia.com/compute/cuda/repos/ubuntu2204/x86_64  InRelease\n",
            "Get:3 http://security.ubuntu.com/ubuntu jammy-security InRelease [110 kB]\n",
            "Hit:4 http://archive.ubuntu.com/ubuntu jammy InRelease\n",
            "Get:5 http://archive.ubuntu.com/ubuntu jammy-updates InRelease [119 kB]\n",
            "Hit:6 https://ppa.launchpadcontent.net/c2d4u.team/c2d4u4.0+/ubuntu jammy InRelease\n",
            "Hit:7 http://archive.ubuntu.com/ubuntu jammy-backports InRelease\n",
            "Hit:8 https://ppa.launchpadcontent.net/deadsnakes/ppa/ubuntu jammy InRelease\n",
            "Hit:9 https://ppa.launchpadcontent.net/graphics-drivers/ppa/ubuntu jammy InRelease\n",
            "Get:10 http://archive.ubuntu.com/ubuntu jammy-updates/main amd64 Packages [1,473 kB]\n",
            "Hit:11 https://ppa.launchpadcontent.net/ubuntugis/ppa/ubuntu jammy InRelease\n",
            "Get:12 http://archive.ubuntu.com/ubuntu jammy-updates/universe amd64 Packages [1,278 kB]\n",
            "Fetched 2,979 kB in 2s (1,479 kB/s)\n",
            "Reading package lists... Done\n",
            "Building dependency tree... Done\n",
            "Reading state information... Done\n",
            "8 packages can be upgraded. Run 'apt list --upgradable' to see them.\n",
            "Reading package lists... Done\n",
            "Building dependency tree... Done\n",
            "Reading state information... Done\n",
            "chromium-chromedriver is already the newest version (1:85.0.4183.83-0ubuntu2.22.04.1).\n",
            "0 upgraded, 0 newly installed, 0 to remove and 8 not upgraded.\n"
          ]
        }
      ]
    },
    {
      "cell_type": "code",
      "execution_count": 5,
      "metadata": {
        "id": "VQTWrkzFE1T6"
      },
      "outputs": [],
      "source": [
        "import requests\n",
        "import numpy as np\n",
        "from bs4 import BeautifulSoup\n",
        "import pandas as pd\n",
        "import lxml.html as lxl\n",
        "from selenium import webdriver\n",
        "from selenium.webdriver.common.by import By\n",
        "from selenium.webdriver.support.ui import WebDriverWait\n",
        "from selenium.webdriver.support import expected_conditions as EC"
      ]
    },
    {
      "cell_type": "code",
      "execution_count": 27,
      "metadata": {
        "id": "7vz68IK-E1T9"
      },
      "outputs": [],
      "source": [
        "MAX_PAGE = 1"
      ]
    },
    {
      "cell_type": "markdown",
      "metadata": {
        "id": "tYAjQ2JHE1T-"
      },
      "source": [
        "# 1. Functions"
      ]
    },
    {
      "cell_type": "markdown",
      "metadata": {
        "id": "HSwlZiq2E1UA"
      },
      "source": [
        "## Scraping the webpages to get all the car urls"
      ]
    },
    {
      "cell_type": "code",
      "execution_count": 28,
      "metadata": {
        "id": "jxH_ZRL2E1UB"
      },
      "outputs": [],
      "source": [
        "## Get all the urls for all the listed used vehicles on truecar.com\n",
        "def urls_scraping(base_url = 'https://www.truecar.com/used-cars-for-sale/listings/'):\n",
        "    urls = []\n",
        "    pages = []\n",
        "    for i in range(1, MAX_PAGE+1):\n",
        "        pages.append(base_url + '?page=' + str(i))\n",
        "    for page in pages:\n",
        "        try:\n",
        "            response = requests.get(page)\n",
        "            response.raise_for_status()\n",
        "        except:\n",
        "            break\n",
        "        root = lxl.fromstring(response.content)\n",
        "        url = ['https://www.truecar.com' + link for link in root.xpath('//div[@data-test=\"cardContent\"]/a/@href')]\n",
        "        urls += url\n",
        "\n",
        "    return urls"
      ]
    },
    {
      "cell_type": "markdown",
      "source": [
        "## Config Web Drive to Crawl"
      ],
      "metadata": {
        "id": "wdFphfhna9EZ"
      }
    },
    {
      "cell_type": "code",
      "source": [
        "options = webdriver.ChromeOptions()\n",
        "options.add_argument('--headless')\n",
        "options.add_argument('--no-sandbox')\n",
        "options.add_argument('--disable-dev-shm-usage')\n"
      ],
      "metadata": {
        "id": "r9BN7tL-5OkH"
      },
      "execution_count": 7,
      "outputs": []
    },
    {
      "cell_type": "markdown",
      "metadata": {
        "id": "xNh5tJatE1UB"
      },
      "source": [
        "## Parse one url to get information and return a dataframe"
      ]
    },
    {
      "cell_type": "code",
      "source": [
        "def page_scraping(urls):\n",
        "  dr = webdriver.Chrome(options=options)\n",
        "  data = []\n",
        "  for url in urls:\n",
        "    dr.get(url)\n",
        "    title = dr.find_elements(By.CLASS_NAME, \"heading-md-2\")[0]\n",
        "    year = title.text.split(\" \")[0]\n",
        "    make = title.text.split(\" \")[1]\n",
        "    model = title.text.split(\" \")[2]\n",
        "    sub_model = ' '.join(title.text.split(\" \")[3:])\n",
        "    location = dr.find_elements(By.CSS_SELECTOR, \".mr-1\")[0].text\n",
        "    city = location.split(\", \")[0]\n",
        "    state = location.split(\", \")[1]\n",
        "    mileage = dr.find_elements(By.XPATH, '//*[@id=\"mainContent\"]/div[2]/div[2]/div[2]/div[2]/div[2]/div/div[3]/div/div')[0].text.split(\" \")[0]\n",
        "    price = dr.find_elements(By.XPATH, '//div[contains(@class, \"heading-2\") and contains(@data-test, \"vdpPricingInfoPrice\")]')[0].text.replace(\"$\", \"\")\n",
        "    exterior_color = dr.find_elements(By.XPATH, '//*[@id=\"mainContent\"]/div[2]/div[2]/div[2]/div[2]/div[2]/div/div[1]/div/div[contains(@class, \"items-center\")]')[0].text.replace(\"Exterior: \", \"\")\n",
        "    interior_color = dr.find_elements(By.XPATH, '//*[@id=\"mainContent\"]/div[2]/div[2]/div[2]/div[2]/div[2]/div/div[2]/div/div[contains(@class, \"items-center\")]')[0].text.replace(\"Interior: \", \"\")\n",
        "    mpg = dr.find_elements(By.XPATH, '//*[@id=\"mainContent\"]/div[2]/div[2]/div[2]/div[2]/div[2]/div/div[5]/div/div')[0].text.split(\" \")\n",
        "    mpg_city = mpg[0]\n",
        "    mpg_hwy = mpg[3]\n",
        "    engine = dr.find_elements(By.XPATH, '//*[@id=\"mainContent\"]/div[2]/div[2]/div[2]/div[2]/div[2]/div/div[8]/div/div')[0].text\n",
        "    transmission = dr.find_elements(By.XPATH, '//*[@id=\"mainContent\"]/div[2]/div[2]/div[2]/div[2]/div[2]/div/div[6]/div/div')[0].text\n",
        "    drive_type = dr.find_elements(By.XPATH, '//*[@id=\"mainContent\"]/div[2]/div[2]/div[2]/div[2]/div[2]/div/div[7]/div/div')[0].text\n",
        "    fuel_type = dr.find_elements(By.XPATH, '//*[@id=\"mainContent\"]/div[2]/div[2]/div[2]/div[2]/div[2]/div/div[4]/div/div')[0].text.replace(\"Fuel Type: \", \"\")\n",
        "    button = dr.find_element(By.XPATH, \"//button[@class='link-button mb-4']\")\n",
        "    dr.execute_script(\"arguments[0].click();\", button)\n",
        "\n",
        "    wait = WebDriverWait(dr, 5)\n",
        "    popup_elements = wait.until(EC.visibility_of_all_elements_located((By.XPATH, \"//div[@class='modal-body modal-body-lg']\")))[0]\n",
        "    features = popup_elements.find_elements(By.XPATH, \"//div[@class='heading-3 normal-case text-base']\")\n",
        "    popular_feature = ''\n",
        "    for i in features:\n",
        "      popular_feature = popular_feature + \", \" + i.text\n",
        "    vehicle_histories = popup_elements.find_elements(By.XPATH, \"//div[@class='grow space-y-1']/div[@class='text-sm']\")[0].text.split('·')\n",
        "    accidents = vehicle_histories[0].split(' ')[0]\n",
        "    owners = vehicle_histories[1].split(' ')[0]\n",
        "    print(\"Year=\"+year+\", Make=\"+make+\", Model=\"+model+\", Sub model:\"+ sub_model+\", City=\"+ city+ \", State=\"+state+\", Mileage=\"+ mileage+\", Price=\"+ price+ \"\\\n",
        "    , Exterior_color=\"+exterior_color+\"\\n, interior_color=\"+ interior_color+\", mpg_city=\"+mpg_city, \"mpg_hwy=\"+mpg_hwy+\", Engine=\"+engine+\", \\\n",
        "    Transmission=\"+ transmission + \", Drive_type=\"+ drive_type + \", Fuel_type=\"+ fuel_type + \",\\n Popular_feature=\"+ popular_feature + \", accidents=\"+ accidents + \", Owners=\"+ owners)\n",
        "\n",
        "    data.append({'year':year, 'make': make, 'model': model, 'sub_model': sub_model, 'city':city, 'state': state,\n",
        "          'mileage': mileage, 'price': price, 'exterior_color': exterior_color,\n",
        "                    'interior_color': interior_color, 'mpg_city': mpg_city, 'mpg_hwy': mpg_hwy, 'engine': engine,\n",
        "                    'transmission': transmission, 'drive_type': drive_type, 'fuel_type': fuel_type,\n",
        "                    'popular_feature': popular_feature, 'accidents': accidents, 'owners': owners})\n",
        "  dr.quit()\n",
        "  return pd.DataFrame(data)\n",
        "\n",
        "\n"
      ],
      "metadata": {
        "id": "lHpqOkjD5oC7"
      },
      "execution_count": 24,
      "outputs": []
    },
    {
      "cell_type": "markdown",
      "metadata": {
        "id": "nHu4cS-kE1UD"
      },
      "source": [
        "## Use multi-processing to scrape all urls and merge into one dataframe"
      ]
    },
    {
      "cell_type": "code",
      "execution_count": 19,
      "metadata": {
        "id": "UgRQb3GmE1UE"
      },
      "outputs": [],
      "source": [
        "# Use multi-processing to speed up the web-scraping\n",
        "# fully make use of 8 cores of my macbook pro.\n",
        "from multiprocessing import Pool\n",
        "num_partitions = 32\n",
        "num_cores = 8\n",
        "def parallelize(urls, func):\n",
        "    url_set = np.array_split(urls, num_partitions)\n",
        "    pool = Pool(num_cores)\n",
        "    df = pd.concat(pool.map(func, url_set))\n",
        "    pool.close()\n",
        "    pool.join()\n",
        "    return df\n",
        "# main function to scrape all the urls and merge all the data into one dataframe\n",
        "def scraping(urls):\n",
        "    scraping_data = [page_scraping(url) for url in urls]\n",
        "    return pd.concat(scraping_data, axis=1).T"
      ]
    },
    {
      "cell_type": "markdown",
      "metadata": {
        "id": "n1mzkfFPE1UF"
      },
      "source": [
        "# 2. Main function"
      ]
    },
    {
      "cell_type": "markdown",
      "metadata": {
        "id": "T4sTOZxEE1UG"
      },
      "source": [
        "## Getting all urls"
      ]
    },
    {
      "cell_type": "code",
      "execution_count": 29,
      "metadata": {
        "scrolled": true,
        "colab": {
          "base_uri": "https://localhost:8080/"
        },
        "id": "8PIn8X8YE1UG",
        "outputId": "1c7aa039-b84b-46eb-e865-622e503ab958"
      },
      "outputs": [
        {
          "output_type": "stream",
          "name": "stdout",
          "text": [
            "CPU times: user 145 ms, sys: 7.67 ms, total: 152 ms\n",
            "Wall time: 1.39 s\n"
          ]
        },
        {
          "output_type": "execute_result",
          "data": {
            "text/plain": [
              "['https://www.truecar.com/used-cars-for-sale/listing/55SWF4JB6HU216138/2017-mercedes-benz-c-class/?sponsoredVehiclePosition=0&zipcode=92504',\n",
              " 'https://www.truecar.com/used-cars-for-sale/listing/1FTEW1E55LFA86616/2020-ford-f-150/?sponsoredVehiclePosition=1&zipcode=49254',\n",
              " 'https://www.truecar.com/used-cars-for-sale/listing/1FTEW1EP6GFA60291/2016-ford-f-150/?sponsoredVehiclePosition=2&zipcode=07606',\n",
              " 'https://www.truecar.com/used-cars-for-sale/listing/1G1ZD5ST7LF088152/2020-chevrolet-malibu/?zipcode=33619',\n",
              " 'https://www.truecar.com/used-cars-for-sale/listing/1FTFW1E8XMKD49013/2021-ford-f-150/?zipcode=33584',\n",
              " 'https://www.truecar.com/used-cars-for-sale/listing/1FTEW1EB9MKE00573/2021-ford-f-150/?zipcode=42728',\n",
              " 'https://www.truecar.com/used-cars-for-sale/listing/1FTEW1EP2MKD38719/2021-ford-f-150/?zipcode=61081',\n",
              " 'https://www.truecar.com/used-cars-for-sale/listing/1FTEW1E57LFA96953/2020-ford-f-150/?zipcode=14625',\n",
              " 'https://www.truecar.com/used-cars-for-sale/listing/5YFEPMAE8MP180813/2021-toyota-corolla/?zipcode=34684',\n",
              " 'https://www.truecar.com/used-cars-for-sale/listing/1FMSK8DH7MGB87795/2021-ford-explorer/?zipcode=48180',\n",
              " 'https://www.truecar.com/used-cars-for-sale/listing/1C4HJXEN6LW175299/2020-jeep-wrangler/?zipcode=27606',\n",
              " 'https://www.truecar.com/used-cars-for-sale/listing/1FTFW1E51MFA71911/2021-ford-f-150/?zipcode=93230',\n",
              " 'https://www.truecar.com/used-cars-for-sale/listing/1FMSK7FH2LGA76349/2020-ford-explorer/?zipcode=23452',\n",
              " 'https://www.truecar.com/used-cars-for-sale/listing/1FTFX1E57KKE40756/2019-ford-f-150/?zipcode=80113',\n",
              " 'https://www.truecar.com/used-cars-for-sale/listing/1FTEX1C54JKE52120/2018-ford-f-150/?zipcode=80104',\n",
              " 'https://www.truecar.com/used-cars-for-sale/listing/1FTEW1C56JKE24483/2018-ford-f-150/?zipcode=75220',\n",
              " 'https://www.truecar.com/used-cars-for-sale/listing/1HGCR6F57EA009337/2014-honda-accord/?zipcode=93405',\n",
              " 'https://www.truecar.com/used-cars-for-sale/listing/1FTEW1EP1KKC56638/2019-ford-f-150/?zipcode=49512',\n",
              " 'https://www.truecar.com/used-cars-for-sale/listing/55SWF4JB6HU216138/2017-mercedes-benz-c-class/?zipcode=92504',\n",
              " 'https://www.truecar.com/used-cars-for-sale/listing/3N1AB7APXKY221829/2019-nissan-sentra/?zipcode=33415',\n",
              " 'https://www.truecar.com/used-cars-for-sale/listing/1FTEW1EP8HFC13951/2017-ford-f-150/?zipcode=49512',\n",
              " 'https://www.truecar.com/used-cars-for-sale/listing/5YFEPMAE0MP154268/2021-toyota-corolla/?zipcode=32114',\n",
              " 'https://www.truecar.com/used-cars-for-sale/listing/1FTEW1E57JFC81436/2018-ford-f-150/?zipcode=46158',\n",
              " 'https://www.truecar.com/used-cars-for-sale/listing/1FTEW1EP0KKE75347/2019-ford-f-150/?zipcode=76244',\n",
              " 'https://www.truecar.com/used-cars-for-sale/listing/KNDJ63AU3M7758319/2021-kia-soul/?zipcode=34471',\n",
              " 'https://www.truecar.com/used-cars-for-sale/listing/1C4HJXEG0KW589212/2019-jeep-wrangler/?zipcode=45458',\n",
              " 'https://www.truecar.com/used-cars-for-sale/listing/2T3W1RFVXMW111851/2021-toyota-rav4/?zipcode=27703',\n",
              " 'https://www.truecar.com/used-cars-for-sale/listing/2HGFG3B82CH551669/2012-honda-civic/?zipcode=78201',\n",
              " 'https://www.truecar.com/used-cars-for-sale/listing/1FTEW1CP1GFB62049/2016-ford-f-150/?zipcode=27596',\n",
              " 'https://www.truecar.com/used-cars-for-sale/listing/3KPF24AD7LE228649/2020-kia-forte/?zipcode=33825',\n",
              " 'https://www.truecar.com/used-cars-for-sale/listing/1FTFW1E51MKD61069/2021-ford-f-150/?zipcode=97225',\n",
              " 'https://www.truecar.com/used-cars-for-sale/listing/1FTEW1E4XLFA64361/2020-ford-f-150/',\n",
              " 'https://www.truecar.com/used-cars-for-sale/listing/1FTFW1E89MFA62710/2021-ford-f-150/?zipcode=50613']"
            ]
          },
          "metadata": {},
          "execution_count": 29
        }
      ],
      "source": [
        "%%time\n",
        "urls=urls_scraping() # extract all vehicle urls from allowed 10 pages.\n",
        "urls[:100]"
      ]
    },
    {
      "cell_type": "markdown",
      "metadata": {
        "id": "pBtDjuZTE1UH"
      },
      "source": [
        "## Returning the raw dataframe"
      ]
    },
    {
      "cell_type": "code",
      "source": [
        "%%time\n",
        "data = page_scraping(urls[:5])"
      ],
      "metadata": {
        "colab": {
          "base_uri": "https://localhost:8080/"
        },
        "id": "i4mRNqkMdBKS",
        "outputId": "eb7e5394-d318-4610-f004-bf8a3458e982"
      },
      "execution_count": 34,
      "outputs": [
        {
          "output_type": "stream",
          "name": "stdout",
          "text": [
            "Year=2017, Make=Mercedes-Benz, Model=C-Class, Sub model:C 300 Sedan RWD, City=Riverside, State=CA, Mileage=62,840, Price=16,837    , Exterior_color=Selenite Gray Metallic\n",
            ", interior_color=Ash, mpg_city=23 mpg_hwy=30, Engine=2.0L Inline-4 Gas Inline,     Transmission=Automatic Transmission, Drive_type=RWD, Fuel_type=Gas,\n",
            " Popular_feature=, accidents=1, Owners=2\n",
            "Year=2020, Make=Ford, Model=F-150, Sub model:XLT SuperCrew 5.5' Box 4WD, City=Michigan Center, State=MI, Mileage=49,089, Price=31,601    , Exterior_color=White\n",
            ", interior_color=Medium Light Camel, mpg_city=18 mpg_hwy=23, Engine=5.0L V-8 Gas V,     Transmission=Automatic Transmission, Drive_type=4WD, Fuel_type=Gas,\n",
            " Popular_feature=, accidents=0, Owners=0\n",
            "Year=2016, Make=Ford, Model=F-150, Sub model:XLT SuperCrew 5.5' Box 4WD, City=Garfield, State=NJ, Mileage=179,565, Price=13,199    , Exterior_color=Black\n",
            ", interior_color=Black, mpg_city=17 mpg_hwy=23, Engine=2.7L V-6 Gas V,     Transmission=Automatic Transmission, Drive_type=4WD, Fuel_type=Gas,\n",
            " Popular_feature=, accidents=0, Owners=1\n",
            "Year=2020, Make=Chevrolet, Model=Malibu, Sub model:LT, City=Tampa, State=FL, Mileage=64,185, Price=14,066    , Exterior_color=Mosaic Black Metallic\n",
            ", interior_color=Jet Black, mpg_city=29 mpg_hwy=36, Engine=1.5L Inline-4 Gas Inline,     Transmission=Automatic Transmission, Drive_type=FWD, Fuel_type=Gas,\n",
            " Popular_feature=, Premium Wheels, Apple CarPlay, Android Auto, Premium Seat Material, Front Heated Seats, Remote Engine Start, accidents=2, Owners=2\n",
            "Year=2021, Make=Ford, Model=F-150, Sub model:XLT SuperCrew 5.5' Box 4WD, City=Seffner, State=FL, Mileage=31,360, Price=30,484    , Exterior_color=Oxford White\n",
            ", interior_color=Black/Medium Dark Slate, mpg_city=19 mpg_hwy=22, Engine=3.5L V-6 Gas V,     Transmission=Automatic Transmission, Drive_type=4WD, Fuel_type=Gas,\n",
            " Popular_feature=, accidents=0, Owners=1\n",
            "CPU times: user 634 ms, sys: 51.4 ms, total: 685 ms\n",
            "Wall time: 53.5 s\n"
          ]
        }
      ]
    },
    {
      "cell_type": "code",
      "source": [
        "print(data.shape)\n",
        "data.head(20)"
      ],
      "metadata": {
        "colab": {
          "base_uri": "https://localhost:8080/",
          "height": 504
        },
        "id": "36__JGrmghxd",
        "outputId": "832a6b41-2ef3-4e20-e07f-2585666b5520"
      },
      "execution_count": 35,
      "outputs": [
        {
          "output_type": "stream",
          "name": "stdout",
          "text": [
            "(5, 19)\n"
          ]
        },
        {
          "output_type": "execute_result",
          "data": {
            "text/plain": [
              "   year           make    model                   sub_model             city  \\\n",
              "0  2017  Mercedes-Benz  C-Class             C 300 Sedan RWD        Riverside   \n",
              "1  2020           Ford    F-150  XLT SuperCrew 5.5' Box 4WD  Michigan Center   \n",
              "2  2016           Ford    F-150  XLT SuperCrew 5.5' Box 4WD         Garfield   \n",
              "3  2020      Chevrolet   Malibu                          LT            Tampa   \n",
              "4  2021           Ford    F-150  XLT SuperCrew 5.5' Box 4WD          Seffner   \n",
              "\n",
              "  state  mileage   price          exterior_color           interior_color  \\\n",
              "0    CA   62,840  16,837  Selenite Gray Metallic                      Ash   \n",
              "1    MI   49,089  31,601                   White       Medium Light Camel   \n",
              "2    NJ  179,565  13,199                   Black                    Black   \n",
              "3    FL   64,185  14,066   Mosaic Black Metallic                Jet Black   \n",
              "4    FL   31,360  30,484            Oxford White  Black/Medium Dark Slate   \n",
              "\n",
              "  mpg_city mpg_hwy                    engine            transmission  \\\n",
              "0       23      30  2.0L Inline-4 Gas Inline  Automatic Transmission   \n",
              "1       18      23            5.0L V-8 Gas V  Automatic Transmission   \n",
              "2       17      23            2.7L V-6 Gas V  Automatic Transmission   \n",
              "3       29      36  1.5L Inline-4 Gas Inline  Automatic Transmission   \n",
              "4       19      22            3.5L V-6 Gas V  Automatic Transmission   \n",
              "\n",
              "  drive_type fuel_type                                    popular_feature  \\\n",
              "0        RWD       Gas                                                      \n",
              "1        4WD       Gas                                                      \n",
              "2        4WD       Gas                                                      \n",
              "3        FWD       Gas  , Premium Wheels, Apple CarPlay, Android Auto,...   \n",
              "4        4WD       Gas                                                      \n",
              "\n",
              "  accidents owners  \n",
              "0         1      2  \n",
              "1         0      0  \n",
              "2         0      1  \n",
              "3         2      2  \n",
              "4         0      1  "
            ],
            "text/html": [
              "\n",
              "  <div id=\"df-6412628b-1fa8-42f5-9b04-fc44f0ce8008\" class=\"colab-df-container\">\n",
              "    <div>\n",
              "<style scoped>\n",
              "    .dataframe tbody tr th:only-of-type {\n",
              "        vertical-align: middle;\n",
              "    }\n",
              "\n",
              "    .dataframe tbody tr th {\n",
              "        vertical-align: top;\n",
              "    }\n",
              "\n",
              "    .dataframe thead th {\n",
              "        text-align: right;\n",
              "    }\n",
              "</style>\n",
              "<table border=\"1\" class=\"dataframe\">\n",
              "  <thead>\n",
              "    <tr style=\"text-align: right;\">\n",
              "      <th></th>\n",
              "      <th>year</th>\n",
              "      <th>make</th>\n",
              "      <th>model</th>\n",
              "      <th>sub_model</th>\n",
              "      <th>city</th>\n",
              "      <th>state</th>\n",
              "      <th>mileage</th>\n",
              "      <th>price</th>\n",
              "      <th>exterior_color</th>\n",
              "      <th>interior_color</th>\n",
              "      <th>mpg_city</th>\n",
              "      <th>mpg_hwy</th>\n",
              "      <th>engine</th>\n",
              "      <th>transmission</th>\n",
              "      <th>drive_type</th>\n",
              "      <th>fuel_type</th>\n",
              "      <th>popular_feature</th>\n",
              "      <th>accidents</th>\n",
              "      <th>owners</th>\n",
              "    </tr>\n",
              "  </thead>\n",
              "  <tbody>\n",
              "    <tr>\n",
              "      <th>0</th>\n",
              "      <td>2017</td>\n",
              "      <td>Mercedes-Benz</td>\n",
              "      <td>C-Class</td>\n",
              "      <td>C 300 Sedan RWD</td>\n",
              "      <td>Riverside</td>\n",
              "      <td>CA</td>\n",
              "      <td>62,840</td>\n",
              "      <td>16,837</td>\n",
              "      <td>Selenite Gray Metallic</td>\n",
              "      <td>Ash</td>\n",
              "      <td>23</td>\n",
              "      <td>30</td>\n",
              "      <td>2.0L Inline-4 Gas Inline</td>\n",
              "      <td>Automatic Transmission</td>\n",
              "      <td>RWD</td>\n",
              "      <td>Gas</td>\n",
              "      <td></td>\n",
              "      <td>1</td>\n",
              "      <td>2</td>\n",
              "    </tr>\n",
              "    <tr>\n",
              "      <th>1</th>\n",
              "      <td>2020</td>\n",
              "      <td>Ford</td>\n",
              "      <td>F-150</td>\n",
              "      <td>XLT SuperCrew 5.5' Box 4WD</td>\n",
              "      <td>Michigan Center</td>\n",
              "      <td>MI</td>\n",
              "      <td>49,089</td>\n",
              "      <td>31,601</td>\n",
              "      <td>White</td>\n",
              "      <td>Medium Light Camel</td>\n",
              "      <td>18</td>\n",
              "      <td>23</td>\n",
              "      <td>5.0L V-8 Gas V</td>\n",
              "      <td>Automatic Transmission</td>\n",
              "      <td>4WD</td>\n",
              "      <td>Gas</td>\n",
              "      <td></td>\n",
              "      <td>0</td>\n",
              "      <td>0</td>\n",
              "    </tr>\n",
              "    <tr>\n",
              "      <th>2</th>\n",
              "      <td>2016</td>\n",
              "      <td>Ford</td>\n",
              "      <td>F-150</td>\n",
              "      <td>XLT SuperCrew 5.5' Box 4WD</td>\n",
              "      <td>Garfield</td>\n",
              "      <td>NJ</td>\n",
              "      <td>179,565</td>\n",
              "      <td>13,199</td>\n",
              "      <td>Black</td>\n",
              "      <td>Black</td>\n",
              "      <td>17</td>\n",
              "      <td>23</td>\n",
              "      <td>2.7L V-6 Gas V</td>\n",
              "      <td>Automatic Transmission</td>\n",
              "      <td>4WD</td>\n",
              "      <td>Gas</td>\n",
              "      <td></td>\n",
              "      <td>0</td>\n",
              "      <td>1</td>\n",
              "    </tr>\n",
              "    <tr>\n",
              "      <th>3</th>\n",
              "      <td>2020</td>\n",
              "      <td>Chevrolet</td>\n",
              "      <td>Malibu</td>\n",
              "      <td>LT</td>\n",
              "      <td>Tampa</td>\n",
              "      <td>FL</td>\n",
              "      <td>64,185</td>\n",
              "      <td>14,066</td>\n",
              "      <td>Mosaic Black Metallic</td>\n",
              "      <td>Jet Black</td>\n",
              "      <td>29</td>\n",
              "      <td>36</td>\n",
              "      <td>1.5L Inline-4 Gas Inline</td>\n",
              "      <td>Automatic Transmission</td>\n",
              "      <td>FWD</td>\n",
              "      <td>Gas</td>\n",
              "      <td>, Premium Wheels, Apple CarPlay, Android Auto,...</td>\n",
              "      <td>2</td>\n",
              "      <td>2</td>\n",
              "    </tr>\n",
              "    <tr>\n",
              "      <th>4</th>\n",
              "      <td>2021</td>\n",
              "      <td>Ford</td>\n",
              "      <td>F-150</td>\n",
              "      <td>XLT SuperCrew 5.5' Box 4WD</td>\n",
              "      <td>Seffner</td>\n",
              "      <td>FL</td>\n",
              "      <td>31,360</td>\n",
              "      <td>30,484</td>\n",
              "      <td>Oxford White</td>\n",
              "      <td>Black/Medium Dark Slate</td>\n",
              "      <td>19</td>\n",
              "      <td>22</td>\n",
              "      <td>3.5L V-6 Gas V</td>\n",
              "      <td>Automatic Transmission</td>\n",
              "      <td>4WD</td>\n",
              "      <td>Gas</td>\n",
              "      <td></td>\n",
              "      <td>0</td>\n",
              "      <td>1</td>\n",
              "    </tr>\n",
              "  </tbody>\n",
              "</table>\n",
              "</div>\n",
              "    <div class=\"colab-df-buttons\">\n",
              "\n",
              "  <div class=\"colab-df-container\">\n",
              "    <button class=\"colab-df-convert\" onclick=\"convertToInteractive('df-6412628b-1fa8-42f5-9b04-fc44f0ce8008')\"\n",
              "            title=\"Convert this dataframe to an interactive table.\"\n",
              "            style=\"display:none;\">\n",
              "\n",
              "  <svg xmlns=\"http://www.w3.org/2000/svg\" height=\"24px\" viewBox=\"0 -960 960 960\">\n",
              "    <path d=\"M120-120v-720h720v720H120Zm60-500h600v-160H180v160Zm220 220h160v-160H400v160Zm0 220h160v-160H400v160ZM180-400h160v-160H180v160Zm440 0h160v-160H620v160ZM180-180h160v-160H180v160Zm440 0h160v-160H620v160Z\"/>\n",
              "  </svg>\n",
              "    </button>\n",
              "\n",
              "  <style>\n",
              "    .colab-df-container {\n",
              "      display:flex;\n",
              "      gap: 12px;\n",
              "    }\n",
              "\n",
              "    .colab-df-convert {\n",
              "      background-color: #E8F0FE;\n",
              "      border: none;\n",
              "      border-radius: 50%;\n",
              "      cursor: pointer;\n",
              "      display: none;\n",
              "      fill: #1967D2;\n",
              "      height: 32px;\n",
              "      padding: 0 0 0 0;\n",
              "      width: 32px;\n",
              "    }\n",
              "\n",
              "    .colab-df-convert:hover {\n",
              "      background-color: #E2EBFA;\n",
              "      box-shadow: 0px 1px 2px rgba(60, 64, 67, 0.3), 0px 1px 3px 1px rgba(60, 64, 67, 0.15);\n",
              "      fill: #174EA6;\n",
              "    }\n",
              "\n",
              "    .colab-df-buttons div {\n",
              "      margin-bottom: 4px;\n",
              "    }\n",
              "\n",
              "    [theme=dark] .colab-df-convert {\n",
              "      background-color: #3B4455;\n",
              "      fill: #D2E3FC;\n",
              "    }\n",
              "\n",
              "    [theme=dark] .colab-df-convert:hover {\n",
              "      background-color: #434B5C;\n",
              "      box-shadow: 0px 1px 3px 1px rgba(0, 0, 0, 0.15);\n",
              "      filter: drop-shadow(0px 1px 2px rgba(0, 0, 0, 0.3));\n",
              "      fill: #FFFFFF;\n",
              "    }\n",
              "  </style>\n",
              "\n",
              "    <script>\n",
              "      const buttonEl =\n",
              "        document.querySelector('#df-6412628b-1fa8-42f5-9b04-fc44f0ce8008 button.colab-df-convert');\n",
              "      buttonEl.style.display =\n",
              "        google.colab.kernel.accessAllowed ? 'block' : 'none';\n",
              "\n",
              "      async function convertToInteractive(key) {\n",
              "        const element = document.querySelector('#df-6412628b-1fa8-42f5-9b04-fc44f0ce8008');\n",
              "        const dataTable =\n",
              "          await google.colab.kernel.invokeFunction('convertToInteractive',\n",
              "                                                    [key], {});\n",
              "        if (!dataTable) return;\n",
              "\n",
              "        const docLinkHtml = 'Like what you see? Visit the ' +\n",
              "          '<a target=\"_blank\" href=https://colab.research.google.com/notebooks/data_table.ipynb>data table notebook</a>'\n",
              "          + ' to learn more about interactive tables.';\n",
              "        element.innerHTML = '';\n",
              "        dataTable['output_type'] = 'display_data';\n",
              "        await google.colab.output.renderOutput(dataTable, element);\n",
              "        const docLink = document.createElement('div');\n",
              "        docLink.innerHTML = docLinkHtml;\n",
              "        element.appendChild(docLink);\n",
              "      }\n",
              "    </script>\n",
              "  </div>\n",
              "\n",
              "\n",
              "<div id=\"df-8ce72887-5498-49df-a330-718246d1e839\">\n",
              "  <button class=\"colab-df-quickchart\" onclick=\"quickchart('df-8ce72887-5498-49df-a330-718246d1e839')\"\n",
              "            title=\"Suggest charts\"\n",
              "            style=\"display:none;\">\n",
              "\n",
              "<svg xmlns=\"http://www.w3.org/2000/svg\" height=\"24px\"viewBox=\"0 0 24 24\"\n",
              "     width=\"24px\">\n",
              "    <g>\n",
              "        <path d=\"M19 3H5c-1.1 0-2 .9-2 2v14c0 1.1.9 2 2 2h14c1.1 0 2-.9 2-2V5c0-1.1-.9-2-2-2zM9 17H7v-7h2v7zm4 0h-2V7h2v10zm4 0h-2v-4h2v4z\"/>\n",
              "    </g>\n",
              "</svg>\n",
              "  </button>\n",
              "\n",
              "<style>\n",
              "  .colab-df-quickchart {\n",
              "      --bg-color: #E8F0FE;\n",
              "      --fill-color: #1967D2;\n",
              "      --hover-bg-color: #E2EBFA;\n",
              "      --hover-fill-color: #174EA6;\n",
              "      --disabled-fill-color: #AAA;\n",
              "      --disabled-bg-color: #DDD;\n",
              "  }\n",
              "\n",
              "  [theme=dark] .colab-df-quickchart {\n",
              "      --bg-color: #3B4455;\n",
              "      --fill-color: #D2E3FC;\n",
              "      --hover-bg-color: #434B5C;\n",
              "      --hover-fill-color: #FFFFFF;\n",
              "      --disabled-bg-color: #3B4455;\n",
              "      --disabled-fill-color: #666;\n",
              "  }\n",
              "\n",
              "  .colab-df-quickchart {\n",
              "    background-color: var(--bg-color);\n",
              "    border: none;\n",
              "    border-radius: 50%;\n",
              "    cursor: pointer;\n",
              "    display: none;\n",
              "    fill: var(--fill-color);\n",
              "    height: 32px;\n",
              "    padding: 0;\n",
              "    width: 32px;\n",
              "  }\n",
              "\n",
              "  .colab-df-quickchart:hover {\n",
              "    background-color: var(--hover-bg-color);\n",
              "    box-shadow: 0 1px 2px rgba(60, 64, 67, 0.3), 0 1px 3px 1px rgba(60, 64, 67, 0.15);\n",
              "    fill: var(--button-hover-fill-color);\n",
              "  }\n",
              "\n",
              "  .colab-df-quickchart-complete:disabled,\n",
              "  .colab-df-quickchart-complete:disabled:hover {\n",
              "    background-color: var(--disabled-bg-color);\n",
              "    fill: var(--disabled-fill-color);\n",
              "    box-shadow: none;\n",
              "  }\n",
              "\n",
              "  .colab-df-spinner {\n",
              "    border: 2px solid var(--fill-color);\n",
              "    border-color: transparent;\n",
              "    border-bottom-color: var(--fill-color);\n",
              "    animation:\n",
              "      spin 1s steps(1) infinite;\n",
              "  }\n",
              "\n",
              "  @keyframes spin {\n",
              "    0% {\n",
              "      border-color: transparent;\n",
              "      border-bottom-color: var(--fill-color);\n",
              "      border-left-color: var(--fill-color);\n",
              "    }\n",
              "    20% {\n",
              "      border-color: transparent;\n",
              "      border-left-color: var(--fill-color);\n",
              "      border-top-color: var(--fill-color);\n",
              "    }\n",
              "    30% {\n",
              "      border-color: transparent;\n",
              "      border-left-color: var(--fill-color);\n",
              "      border-top-color: var(--fill-color);\n",
              "      border-right-color: var(--fill-color);\n",
              "    }\n",
              "    40% {\n",
              "      border-color: transparent;\n",
              "      border-right-color: var(--fill-color);\n",
              "      border-top-color: var(--fill-color);\n",
              "    }\n",
              "    60% {\n",
              "      border-color: transparent;\n",
              "      border-right-color: var(--fill-color);\n",
              "    }\n",
              "    80% {\n",
              "      border-color: transparent;\n",
              "      border-right-color: var(--fill-color);\n",
              "      border-bottom-color: var(--fill-color);\n",
              "    }\n",
              "    90% {\n",
              "      border-color: transparent;\n",
              "      border-bottom-color: var(--fill-color);\n",
              "    }\n",
              "  }\n",
              "</style>\n",
              "\n",
              "  <script>\n",
              "    async function quickchart(key) {\n",
              "      const quickchartButtonEl =\n",
              "        document.querySelector('#' + key + ' button');\n",
              "      quickchartButtonEl.disabled = true;  // To prevent multiple clicks.\n",
              "      quickchartButtonEl.classList.add('colab-df-spinner');\n",
              "      try {\n",
              "        const charts = await google.colab.kernel.invokeFunction(\n",
              "            'suggestCharts', [key], {});\n",
              "      } catch (error) {\n",
              "        console.error('Error during call to suggestCharts:', error);\n",
              "      }\n",
              "      quickchartButtonEl.classList.remove('colab-df-spinner');\n",
              "      quickchartButtonEl.classList.add('colab-df-quickchart-complete');\n",
              "    }\n",
              "    (() => {\n",
              "      let quickchartButtonEl =\n",
              "        document.querySelector('#df-8ce72887-5498-49df-a330-718246d1e839 button');\n",
              "      quickchartButtonEl.style.display =\n",
              "        google.colab.kernel.accessAllowed ? 'block' : 'none';\n",
              "    })();\n",
              "  </script>\n",
              "</div>\n",
              "    </div>\n",
              "  </div>\n"
            ]
          },
          "metadata": {},
          "execution_count": 35
        }
      ]
    },
    {
      "cell_type": "code",
      "execution_count": null,
      "metadata": {
        "id": "02EYl44LE1UI"
      },
      "outputs": [],
      "source": [
        "data.to_csv('../data/usedCarListing.csv', encoding = 'utf-8')"
      ]
    },
    {
      "cell_type": "code",
      "execution_count": null,
      "metadata": {
        "id": "ge3C8IPXE1UI"
      },
      "outputs": [],
      "source": []
    }
  ],
  "metadata": {
    "kernelspec": {
      "display_name": "Python 3",
      "language": "python",
      "name": "python3"
    },
    "language_info": {
      "codemirror_mode": {
        "name": "ipython",
        "version": 3
      },
      "file_extension": ".py",
      "mimetype": "text/x-python",
      "name": "python",
      "nbconvert_exporter": "python",
      "pygments_lexer": "ipython3",
      "version": "3.7.3"
    },
    "colab": {
      "provenance": []
    }
  },
  "nbformat": 4,
  "nbformat_minor": 0
}